{
 "cells": [
  {
   "cell_type": "code",
   "execution_count": 1,
   "id": "9c785ab9-f2c8-47e3-95d9-49d0f07ddced",
   "metadata": {
    "pycharm": {
     "name": "#%%\n"
    },
    "tags": []
   },
   "outputs": [],
   "source": [
    "%load_ext autoreload\n",
    "%autoreload 2"
   ]
  },
  {
   "cell_type": "code",
   "execution_count": 2,
   "id": "f2fd5a82-3a53-43fa-862e-abc208b0e8b2",
   "metadata": {
    "pycharm": {
     "name": "#%%\n"
    },
    "tags": []
   },
   "outputs": [],
   "source": [
    "import os\n",
    "import yaml\n",
    "import torch\n",
    "from PIL import Image\n",
    "\n",
    "from chatcaptioner.chat import set_openai_key, caption_image, get_instructions\n",
    "from chatcaptioner.blip2 import Blip2\n",
    "from chatcaptioner.utils import RandomSampledDataset, plot_img, print_info"
   ]
  },
  {
   "cell_type": "markdown",
   "id": "75fa951a-bc3c-49e5-8654-70beeba10bad",
   "metadata": {
    "pycharm": {
     "name": "#%% md\n"
    }
   },
   "source": [
    "## Set OpenAI"
   ]
  },
  {
   "cell_type": "code",
   "execution_count": 3,
   "id": "84c5b12e-0c40-49b8-95c4-34b88a93240e",
   "metadata": {
    "pycharm": {
     "name": "#%%\n"
    },
    "tags": []
   },
   "outputs": [],
   "source": [
    "openai_key = os.environ[\"OPENAI_API_KEY\"]\n",
    "set_openai_key(openai_key)"
   ]
  },
  {
   "cell_type": "markdown",
   "id": "4abe1586-de9f-47b5-943f-9bf5dc11a51e",
   "metadata": {
    "pycharm": {
     "name": "#%% md\n"
    }
   },
   "source": [
    "## Load BLIP-2"
   ]
  },
  {
   "cell_type": "code",
   "execution_count": 4,
   "id": "fbb5177b-8d76-425a-89f6-7b8c2fb182e1",
   "metadata": {
    "pycharm": {
     "name": "#%%\n"
    },
    "tags": []
   },
   "outputs": [
    {
     "name": "stderr",
     "output_type": "stream",
     "text": [
      "Overriding torch_dtype=None with `torch_dtype=torch.float16` due to requirements of `bitsandbytes` to enable model loading in mixed int8. Either pass torch_dtype=torch.float16 or don't pass this argument at all to remove this warning.\n"
     ]
    },
    {
     "name": "stdout",
     "output_type": "stream",
     "text": [
      "\n",
      "===================================BUG REPORT===================================\n",
      "Welcome to bitsandbytes. For bug reports, please submit your error trace to: https://github.com/TimDettmers/bitsandbytes/issues\n",
      "================================================================================\n"
     ]
    },
    {
     "data": {
      "application/vnd.jupyter.widget-view+json": {
       "model_id": "4e18a42f7ea34db6a3a088a36383eb09",
       "version_major": 2,
       "version_minor": 0
      },
      "text/plain": [
       "Loading checkpoint shards:   0%|          | 0/6 [00:00<?, ?it/s]"
      ]
     },
     "metadata": {},
     "output_type": "display_data"
    }
   ],
   "source": [
    "blip2s = {\n",
    "    'FlanT5 XXL': Blip2('FlanT5 XXL', device_id=0, bit8=True)\n",
    "}"
   ]
  },
  {
   "cell_type": "markdown",
   "id": "3ab6f595-3257-4143-b2d7-5a90011acd06",
   "metadata": {
    "pycharm": {
     "name": "#%% md\n"
    }
   },
   "source": [
    "## Test Setting. Change it Accordingly"
   ]
  },
  {
   "cell_type": "code",
   "execution_count": 5,
   "id": "492b4d41-55df-4cc3-858a-58d9152b1e8d",
   "metadata": {
    "pycharm": {
     "name": "#%%\n"
    }
   },
   "outputs": [],
   "source": [
    "# set the number of chat rounds between GPT3 and BLIP-2\n",
    "n_rounds = 10  \n",
    "# if print the chat out in the testing\n",
    "print_mode = 'chat'"
   ]
  },
  {
   "cell_type": "markdown",
   "id": "37b031bc-ecce-4e90-a734-5949932d4378",
   "metadata": {
    "pycharm": {
     "name": "#%% md\n"
    }
   },
   "source": [
    "## Load Dataset & Prepare Foloder to Save Results"
   ]
  },
  {
   "cell_type": "code",
   "execution_count": 6,
   "id": "abed5664-3ab9-4f3b-92b3-7abdb511a410",
   "metadata": {
    "pycharm": {
     "name": "#%%\n"
    }
   },
   "outputs": [],
   "source": [
    "image_path = 'demo_pic/CuteCloud_1366x768.jpg'\n",
    "raw_image = Image.open(image_path).convert('RGB')"
   ]
  },
  {
   "cell_type": "markdown",
   "id": "d66240a1-bfb5-4f24-ae30-e6d4d326f70e",
   "metadata": {
    "pycharm": {
     "name": "#%% md\n"
    },
    "tags": []
   },
   "source": [
    "## Start Caption"
   ]
  },
  {
   "cell_type": "code",
   "execution_count": null,
   "id": "7f6d8798-819d-45e2-91a5-727e386a10d0",
   "metadata": {
    "pycharm": {
     "name": "#%%\n"
    },
    "tags": []
   },
   "outputs": [],
   "source": [
    "for i in range(20):\n",
    "    info = caption_image(blip2s['FlanT5 XXL'], raw_image, model='chatgpt', print_mode=print_mode)\n",
    "    print(info['ChatCaptioner']['caption'])\n",
    "    plot_img(raw_image)"
   ]
  },
  {
   "cell_type": "code",
   "execution_count": null,
   "id": "aee70925-4ee2-4f12-b54a-6e6d121ad375",
   "metadata": {
    "pycharm": {
     "name": "#%%\n"
    }
   },
   "outputs": [],
   "source": []
  },
  {
   "cell_type": "code",
   "execution_count": null,
   "id": "85e801c1-bb13-4a35-baf5-fabc1833d778",
   "metadata": {
    "pycharm": {
     "name": "#%%\n"
    }
   },
   "outputs": [],
   "source": []
  }
 ],
 "metadata": {
  "kernelspec": {
   "display_name": "chatae",
   "language": "python",
   "name": "chatae"
  },
  "language_info": {
   "codemirror_mode": {
    "name": "ipython",
    "version": 3
   },
   "file_extension": ".py",
   "mimetype": "text/x-python",
   "name": "python",
   "nbconvert_exporter": "python",
   "pygments_lexer": "ipython3",
   "version": "3.9.16"
  }
 },
 "nbformat": 4,
 "nbformat_minor": 5
}
