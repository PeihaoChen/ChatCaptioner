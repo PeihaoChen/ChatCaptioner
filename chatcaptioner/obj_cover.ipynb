{
 "cells": [
  {
   "cell_type": "code",
   "execution_count": null,
   "id": "1f65513e-6d70-452f-8d75-d2cd2b51f8fc",
   "metadata": {
    "tags": [],
    "pycharm": {
     "name": "#%%\n"
    }
   },
   "outputs": [],
   "source": [
    "import os\n",
    "from glob import glob\n",
    "import yaml\n",
    "from tqdm import tqdm\n",
    "import nltk\n",
    "from nltk.corpus import wordnet\n",
    "from sentence_transformers import SentenceTransformer, util\n",
    "\n",
    "from chatcaptioner.utils import RandomSampledDataset, print_info, plot_img"
   ]
  },
  {
   "cell_type": "code",
   "execution_count": null,
   "id": "11da03c3-c1c3-4614-b91a-693ed3ebc598",
   "metadata": {
    "tags": [],
    "pycharm": {
     "name": "#%%\n"
    }
   },
   "outputs": [],
   "source": [
    "def map_word_to_hypernym(word):\n",
    "    synsets = wordnet.synsets(word)\n",
    "    if len(synsets) == 0:\n",
    "        return word\n",
    "    else:\n",
    "        synset = synsets[0]  # Use first synset as default\n",
    "        hypernyms = synset.hypernyms()\n",
    "        if len(hypernyms) == 0:\n",
    "            return word\n",
    "        else:\n",
    "            hypernym = hypernyms[0]  # Use first hypernym as default\n",
    "            return hypernym.lemmas()[0].name()"
   ]
  },
  {
   "cell_type": "code",
   "execution_count": null,
   "id": "19178916-28c2-46e9-9abe-a00377c8a8da",
   "metadata": {
    "tags": [],
    "pycharm": {
     "name": "#%%\n"
    }
   },
   "outputs": [],
   "source": [
    "def is_included(noun1, noun2):\n",
    "    synsets1 = wordnet.synsets(noun1, pos=wordnet.NOUN)\n",
    "    synsets2 = wordnet.synsets(noun2, pos=wordnet.NOUN)\n",
    "    \n",
    "    for synset1 in synsets1:\n",
    "        for synset2 in synsets2:\n",
    "            # Check for similarity score\n",
    "            similarity_score = synset1.wup_similarity(synset2)\n",
    "            if similarity_score is not None and similarity_score > 0.9:\n",
    "                return True\n",
    "            # Check for inclusion relationship\n",
    "            if synset1 in synset2.closure(lambda s: s.hyponyms()) \\\n",
    "            or synset2 in synset1.closure(lambda s: s.hyponyms()):\n",
    "                    return True\n",
    "    return False"
   ]
  },
  {
   "cell_type": "code",
   "execution_count": null,
   "id": "6e9d2628-cb6d-41da-b05e-a6e4d5ecbab9",
   "metadata": {
    "tags": [],
    "pycharm": {
     "name": "#%%\n"
    }
   },
   "outputs": [],
   "source": [
    "def extract_nouns(text):\n",
    "    nouns = []\n",
    "    sentences = nltk.sent_tokenize(text)\n",
    "    for sentence in sentences:\n",
    "        words = nltk.word_tokenize(sentence)\n",
    "        tagged_words = nltk.pos_tag(words)\n",
    "        for word, tag in tagged_words:\n",
    "            if tag.startswith('N'):  # Nouns start with 'N' in POS tag\n",
    "                nouns.append(word)\n",
    "    return nouns"
   ]
  },
  {
   "cell_type": "code",
   "execution_count": null,
   "id": "9745507d-98ba-441a-956b-fa57a7ca3460",
   "metadata": {
    "tags": [],
    "pycharm": {
     "name": "#%%\n"
    }
   },
   "outputs": [],
   "source": [
    "sentence_model = SentenceTransformer('all-mpnet-base-v2')"
   ]
  },
  {
   "cell_type": "code",
   "execution_count": null,
   "id": "bfccb971-21a3-48d2-bb63-879616a83542",
   "metadata": {
    "tags": [],
    "pycharm": {
     "name": "#%%\n"
    }
   },
   "outputs": [],
   "source": [
    "DATA_ROOT = 'datasets'\n",
    "dataset = RandomSampledDataset(DATA_ROOT, 'pascal')"
   ]
  },
  {
   "cell_type": "code",
   "execution_count": null,
   "id": "ac646f4f-b347-40b8-bce7-8cfeaf9631c0",
   "metadata": {
    "tags": [],
    "pycharm": {
     "name": "#%%\n"
    }
   },
   "outputs": [],
   "source": [
    "# specify SAVE_PATH to visualize the result you want\n",
    "SAVE_PATH = 'experiments/test'"
   ]
  },
  {
   "cell_type": "code",
   "execution_count": null,
   "id": "366836da-0b61-4dff-b8c9-688065484aa0",
   "metadata": {
    "tags": [],
    "pycharm": {
     "name": "#%%\n"
    }
   },
   "outputs": [],
   "source": [
    "def check_cover(gt_objs, cap_objs):\n",
    "    covered = []\n",
    "    for gt_obj in gt_objs:\n",
    "        for obj in cap_objs:\n",
    "            if obj == 'people':\n",
    "                obj = 'person'\n",
    "            if is_included(gt_obj, obj):\n",
    "                covered.append(gt_obj)\n",
    "                break\n",
    "    return len(covered), len(gt_objs)"
   ]
  },
  {
   "cell_type": "code",
   "execution_count": null,
   "id": "22d347a0-b552-4510-bd28-42211921620e",
   "metadata": {
    "tags": [],
    "pycharm": {
     "name": "#%%\n"
    }
   },
   "outputs": [],
   "source": [
    "results_blip2 = []\n",
    "results_our = []\n",
    "\n",
    "save_infos = glob(os.path.join(SAVE_PATH, 'pascal', 'caption_result', '*'))\n",
    "for info_file in tqdm(save_infos):\n",
    "    with open(info_file, 'r') as f:\n",
    "        info = yaml.safe_load(f)\n",
    "    img_id = info['id'] if 'id' in info else info['setting']['id']\n",
    "    \n",
    "    blip2 = info['FlanT5 XXL']['BLIP2+OurPrompt']['caption']\n",
    "    blip2 = extract_nouns(blip2)\n",
    "    \n",
    "    our = info['FlanT5 XXL']['ChatCaptioner']['caption']\n",
    "    our = extract_nouns(our)\n",
    "    \n",
    "    gt_objs = []\n",
    "    gt_objs_tmp = info['setting']['GT']['caption'][0].split('_')\n",
    "    \n",
    "    for obj in gt_objs_tmp:\n",
    "        if ' ' in obj: continue\n",
    "        gt_objs.append(obj)\n",
    "        \n",
    "    results_blip2.append(check_cover(gt_objs, blip2))\n",
    "    results_our.append(check_cover(gt_objs, our))\n",
    "    \n"
   ]
  },
  {
   "cell_type": "code",
   "execution_count": null,
   "id": "641b5266-ca6b-4f36-9c79-214c0691e1c1",
   "metadata": {
    "tags": [],
    "pycharm": {
     "name": "#%%\n"
    }
   },
   "outputs": [],
   "source": [
    "x, y = 0, 0\n",
    "for a, b in results_our:\n",
    "    x += a\n",
    "    y += b\n",
    "print(x, y)"
   ]
  },
  {
   "cell_type": "code",
   "execution_count": null,
   "id": "5ba6cd2e-b7e7-495d-8f7e-6927eb38e723",
   "metadata": {
    "tags": [],
    "pycharm": {
     "name": "#%%\n"
    }
   },
   "outputs": [],
   "source": [
    "x, y = 0, 0\n",
    "for a, b in results_blip2:\n",
    "    x += a\n",
    "    y += b\n",
    "print(x, y)"
   ]
  },
  {
   "cell_type": "code",
   "execution_count": null,
   "id": "67e5e1fc-6d7e-4449-8623-e1d97ca8ef92",
   "metadata": {
    "tags": [],
    "pycharm": {
     "name": "#%%\n"
    }
   },
   "outputs": [],
   "source": [
    "with open(info_file, 'r') as f:\n",
    "    info = yaml.safe_load(f)\n",
    "img_id = info['id'] if 'id' in info else info['setting']['id']\n",
    "\n",
    "blip2 = info['FlanT5 XXL']['BLIP2+OurPrompt']['caption']\n",
    "blip2 = extract_nouns(blip2)\n",
    "\n",
    "our = info['FlanT5 XXL']['ChatCaptioner']['caption']\n",
    "our = extract_nouns(our)\n",
    "\n",
    "gt_objs = []\n",
    "gt_objs_tmp = info['setting']['GT']['caption'][0].split('_')\n",
    "    "
   ]
  },
  {
   "cell_type": "code",
   "execution_count": null,
   "id": "8bb32496-6aee-4d71-b060-c068388e27ad",
   "metadata": {
    "tags": [],
    "pycharm": {
     "name": "#%%\n"
    }
   },
   "outputs": [],
   "source": [
    "blip2"
   ]
  },
  {
   "cell_type": "code",
   "execution_count": null,
   "id": "b2de57fe-f287-4703-914f-5a8feb71c2e9",
   "metadata": {
    "tags": [],
    "pycharm": {
     "name": "#%%\n"
    }
   },
   "outputs": [],
   "source": [
    "our"
   ]
  },
  {
   "cell_type": "code",
   "execution_count": null,
   "id": "1003c60b-ad08-4d5b-925f-5b61ddb33a64",
   "metadata": {
    "tags": [],
    "pycharm": {
     "name": "#%%\n"
    }
   },
   "outputs": [],
   "source": [
    "gt_objs_tmp"
   ]
  },
  {
   "cell_type": "code",
   "execution_count": null,
   "id": "fa36cf8a-8d35-43cc-ac98-db631154e2a7",
   "metadata": {
    "pycharm": {
     "name": "#%%\n"
    }
   },
   "outputs": [],
   "source": []
  }
 ],
 "metadata": {
  "kernelspec": {
   "display_name": "chatae",
   "language": "python",
   "name": "chatae"
  },
  "language_info": {
   "codemirror_mode": {
    "name": "ipython",
    "version": 3
   },
   "file_extension": ".py",
   "mimetype": "text/x-python",
   "name": "python",
   "nbconvert_exporter": "python",
   "pygments_lexer": "ipython3",
   "version": "3.9.16"
  }
 },
 "nbformat": 4,
 "nbformat_minor": 5
}