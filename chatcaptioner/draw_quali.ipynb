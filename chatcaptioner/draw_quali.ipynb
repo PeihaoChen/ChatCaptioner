{
 "cells": [
  {
   "cell_type": "code",
   "execution_count": null,
   "id": "a6381f4c-3db3-4cd2-92b2-07a2dbb8c0bb",
   "metadata": {
    "tags": [],
    "pycharm": {
     "name": "#%%\n"
    }
   },
   "outputs": [],
   "source": [
    "%load_ext autoreload\n",
    "%autoreload 2"
   ]
  },
  {
   "cell_type": "code",
   "execution_count": null,
   "id": "d535f155-9f76-4b16-a3c2-585e8adf00a9",
   "metadata": {
    "tags": [],
    "pycharm": {
     "name": "#%%\n"
    }
   },
   "outputs": [],
   "source": [
    "import os\n",
    "from glob import glob\n",
    "import yaml\n",
    "\n",
    "import matplotlib\n",
    "import matplotlib.pyplot as plt\n",
    "from matplotlib.offsetbox import OffsetImage, AnnotationBbox\n",
    "\n",
    "from chatcaptioner.utils import print_info, plot_img, extractQA_chatgpt, RandomSampledDataset"
   ]
  },
  {
   "cell_type": "code",
   "execution_count": null,
   "id": "2e9e7b2d-b8e2-4216-ae25-0e388d6631ac",
   "metadata": {
    "tags": [],
    "pycharm": {
     "name": "#%%\n"
    }
   },
   "outputs": [],
   "source": [
    "def split_sentence(sentence, max_len=38):\n",
    "    if len(sentence) < max_len:\n",
    "        return sentence, 1\n",
    "    words = sentence.split(' ')\n",
    "    sub_sentence_list = []\n",
    "    init = ''\n",
    "    \n",
    "    for word in words:\n",
    "        tmp_init = init + ' ' + word\n",
    "        if len(tmp_init) > max_len:\n",
    "            sub_sentence_list.append(init)\n",
    "            init = word\n",
    "        else:\n",
    "            init = tmp_init\n",
    "    sub_sentence_list.append(init)\n",
    "    \n",
    "    return '\\n'.join(sub_sentence_list), len(sub_sentence_list)\n",
    "    \n",
    "\n",
    "def plot_dialogue(lefts, rights, xs=[0.1, 0.7], init_y=1, y_gap=0.07, line_h=0.045):\n",
    "    cdict = {'left': '#ecf5e6', 'right': '#e7f0fd'}\n",
    "    \n",
    "    def plot_text(x, y, s, pos):\n",
    "        plt.text(\n",
    "            x=x, y=y, s=s, \n",
    "            horizontalalignment=pos,\n",
    "            multialignment='left',\n",
    "            verticalalignment='top',\n",
    "            bbox=dict(boxstyle='round', \n",
    "                      fc=cdict[pos], \n",
    "                      ec=cdict[pos], \n",
    "                      ))\n",
    "    \n",
    "    cur_y = init_y\n",
    "    for l, r in zip(lefts, rights):\n",
    "        l, n_lines = split_sentence(l)\n",
    "        plot_text(x=xs[0], y=cur_y, s=l, pos='left')\n",
    "        cur_y -= y_gap + line_h * (n_lines-1)\n",
    "        \n",
    "        r, n_lines = split_sentence(r)\n",
    "        plot_text(x=xs[1], y=cur_y, s=r, pos='right')\n",
    "        cur_y -= y_gap + line_h * (n_lines-1)\n",
    "        \n",
    "    return cur_y\n",
    "        \n",
    "def plot_summary(summary, x, y, max_len=43):\n",
    "    summary, n_lines = split_sentence(summary, max_len)\n",
    "    plt.text(\n",
    "            x=x, y=y, s=summary, \n",
    "            horizontalalignment='center',\n",
    "            multialignment='left',\n",
    "            verticalalignment='top',\n",
    "            bbox=dict(boxstyle='round', \n",
    "                      fc='#ffe5b5', \n",
    "                      ec='#ffe5b5', \n",
    "                      ))\n",
    "\n",
    "        \n",
    "def fancy_plot(img, questions, answers, summary, xs=[0, 1], init_y=1):\n",
    "    ax = plt.gca()\n",
    "    w, h = test_img.size\n",
    "    img = img.resize([int(256/h*w), 256])\n",
    "    # plt.xlim(*xs)\n",
    "    \n",
    "    imagebox = OffsetImage(img, zoom=0.5)\n",
    "    ab = AnnotationBbox(imagebox, ((xs[1] + xs[0]) / 2, init_y), frameon=False, box_alignment=(0.5, 0))\n",
    "    ax.add_artist(ab)\n",
    "    \n",
    "    y = init_y - 0.03\n",
    "    y = plot_dialogue(questions, answers, xs=xs, init_y=y)\n",
    "    \n",
    "    y = y - 0.01\n",
    "    plot_summary(summary, (xs[1] + xs[0]) / 2, y)\n",
    "    \n",
    "    plt.axis('off')\n",
    "    \n",
    "    \n",
    "    "
   ]
  },
  {
   "cell_type": "code",
   "execution_count": null,
   "id": "80751efa-cd79-481e-81ae-deda51298eee",
   "metadata": {
    "tags": [],
    "pycharm": {
     "name": "#%%\n"
    }
   },
   "outputs": [],
   "source": [
    "# specify SAVE_PATH to visualize the result you want\n",
    "SAVE_PATH = 'experiments/test/'\n",
    "DATA_ROOT = 'datasets/'"
   ]
  },
  {
   "cell_type": "code",
   "execution_count": null,
   "id": "030253f3-6db4-4b76-b8f0-07bc412ce3d0",
   "metadata": {
    "tags": [],
    "pycharm": {
     "name": "#%%\n"
    }
   },
   "outputs": [],
   "source": [
    "datasets_list = os.listdir(SAVE_PATH)\n",
    "datasets_list = ['artemis', 'coco_val']\n",
    "for dataset_name in datasets_list:\n",
    "    print('============================')\n",
    "    print('          {}          '.format(dataset_name))\n",
    "    print('============================')\n",
    "    fig_path = 'figs/testV4_chatgpt/{}'.format(dataset_name)\n",
    "    os.makedirs(fig_path, exist_ok=True)\n",
    "    \n",
    "    dataset = RandomSampledDataset(DATA_ROOT, dataset_name)\n",
    "    \n",
    "    save_infos = glob(os.path.join(SAVE_PATH, dataset_name, 'caption_result', '*'))\n",
    "    for info_file in save_infos:\n",
    "        with open(info_file, 'r') as f:\n",
    "            info = yaml.safe_load(f)\n",
    "        \n",
    "            \n",
    "        img_id = info['id'] if 'id' in info else info['setting']['id']\n",
    "        test_img, _ = dataset.fetch_img(img_id)\n",
    "        \n",
    "        questions, answers = extractQA_chatgpt(info['FlanT5 XXL']['ChatCaptioner']['chat'])\n",
    "        summary = info['FlanT5 XXL']['ChatCaptioner']['caption']\n",
    "        fancy_plot(test_img, questions, answers, summary)\n",
    "        plt.gca().set_aspect(1.3)\n",
    "        plt.savefig(os.path.join(fig_path, '{}.pdf'.format(img_id)), bbox_inches='tight')\n",
    "        plt.close()"
   ]
  },
  {
   "cell_type": "code",
   "execution_count": null,
   "id": "520912d5-eece-4184-a055-73349cfe419d",
   "metadata": {
    "pycharm": {
     "name": "#%%\n"
    }
   },
   "outputs": [],
   "source": []
  }
 ],
 "metadata": {
  "kernelspec": {
   "display_name": "chatae",
   "language": "python",
   "name": "chatae"
  },
  "language_info": {
   "codemirror_mode": {
    "name": "ipython",
    "version": 3
   },
   "file_extension": ".py",
   "mimetype": "text/x-python",
   "name": "python",
   "nbconvert_exporter": "python",
   "pygments_lexer": "ipython3",
   "version": "3.9.16"
  }
 },
 "nbformat": 4,
 "nbformat_minor": 5
}