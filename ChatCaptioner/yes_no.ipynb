{
 "cells": [
  {
   "cell_type": "code",
   "execution_count": null,
   "id": "5c44a676-0233-4475-bb98-a81fac693899",
   "metadata": {
    "tags": []
   },
   "outputs": [],
   "source": [
    "%load_ext autoreload\n",
    "%autoreload 2"
   ]
  },
  {
   "cell_type": "code",
   "execution_count": null,
   "id": "03947bd6-59ca-4b9c-a30b-33dbeea8fc54",
   "metadata": {
    "tags": []
   },
   "outputs": [],
   "source": [
    "import os\n",
    "from glob import glob\n",
    "import csv\n",
    "import yaml\n",
    "from chatcaptioner.chat import get_chat_log\n",
    "from chatcaptioner.blip2 import Blip2\n",
    "from chatcaptioner.utils import print_info, plot_img, extractQA_chatgpt, RandomSampledDataset"
   ]
  },
  {
   "cell_type": "code",
   "execution_count": null,
   "id": "27f4088d-3886-43e0-9dc9-0a8b9b946fae",
   "metadata": {
    "tags": []
   },
   "outputs": [],
   "source": [
    "# specify SAVE_PATH to visualize the result you want\n",
    "SAVE_PATH = 'experiments/test/'\n",
    "DATA_ROOT = 'datasets/'"
   ]
  },
  {
   "cell_type": "code",
   "execution_count": null,
   "id": "eba38f95-3768-4b26-8881-e5693c65a13e",
   "metadata": {
    "tags": []
   },
   "outputs": [],
   "source": [
    "datasets_list = os.listdir(SAVE_PATH)\n",
    "datasets_list = ['cc_val']\n",
    "yes_no_list = []\n",
    "\n",
    "for dataset_name in datasets_list:\n",
    "    print('============================')\n",
    "    print('          {}          '.format(dataset_name))\n",
    "    print('============================')\n",
    "    dataset = RandomSampledDataset(DATA_ROOT, dataset_name)\n",
    "    \n",
    "    save_infos = glob(os.path.join(SAVE_PATH, dataset_name, 'caption_result', '*'))\n",
    "    for info_file in save_infos:\n",
    "        with open(info_file, 'r') as f:\n",
    "            info = yaml.safe_load(f)\n",
    "        img_id = info['id'] if 'id' in info else info['setting']['id']\n",
    "        test_img, _ = dataset.fetch_img(img_id)\n",
    "        \n",
    "        chat = info['FlanT5 XXL']['ChatCaptioner']['chat']\n",
    "        questions, answers = extractQA_chatgpt(chat)\n",
    "        yes_no = False\n",
    "        for q, a in zip(questions, answers):\n",
    "            a = a.lower()\n",
    "            # a = a.split(' ')\n",
    "            if 'yes' == a or 'no' == a:\n",
    "            # if 'Are there' in q:\n",
    "                yes_no = True\n",
    "                print('Question: {}'.format(q))\n",
    "                print('Answer: {}'.format(a))\n",
    "                yes_no_list.append((img_id, q, a))\n",
    "        if not_sure:\n",
    "            plot_img(test_img)\n",
    "        "
   ]
  },
  {
   "cell_type": "code",
   "execution_count": null,
   "id": "b717d01e-fbfc-44b3-8690-542d417a8c26",
   "metadata": {
    "tags": []
   },
   "outputs": [],
   "source": [
    "# save questions that BLIP-2 is unsure about for later human evalutaion\n",
    "uncertainty_dict = {}\n",
    "for img_id, q, a in uncertainty_list:\n",
    "    if img_id not in uncertainty_dict:\n",
    "        uncertainty_dict[img_id] = [q]\n",
    "    else:\n",
    "        uncertainty_dict[img_id].append(q)\n",
    "with open(os.path.join('not_sure.yaml'), 'w') as f:\n",
    "    yaml.dump(uncertainty_dict, f)"
   ]
  }
 ],
 "metadata": {
  "kernelspec": {
   "display_name": "chatae",
   "language": "python",
   "name": "chatae"
  },
  "language_info": {
   "codemirror_mode": {
    "name": "ipython",
    "version": 3
   },
   "file_extension": ".py",
   "mimetype": "text/x-python",
   "name": "python",
   "nbconvert_exporter": "python",
   "pygments_lexer": "ipython3",
   "version": "3.9.16"
  }
 },
 "nbformat": 4,
 "nbformat_minor": 5
}
