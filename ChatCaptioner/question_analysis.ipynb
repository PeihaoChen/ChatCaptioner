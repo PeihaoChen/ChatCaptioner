{
 "cells": [
  {
   "cell_type": "code",
   "execution_count": null,
   "id": "cbec04d8-10b6-4a31-bf18-dc143d2ea554",
   "metadata": {
    "pycharm": {
     "name": "#%%\n"
    },
    "tags": []
   },
   "outputs": [],
   "source": [
    "import os\n",
    "import numpy as np\n",
    "from tqdm import tqdm\n",
    "from glob import glob\n",
    "import yaml\n",
    "import matplotlib\n",
    "from matplotlib.colors import hsv_to_rgb\n",
    "import matplotlib.pyplot as plt\n",
    "import matplotlib.patheffects as PathEffects\n",
    "import umap\n",
    "from sentence_transformers import SentenceTransformer, util\n",
    "\n",
    "from chatcaptioner.utils import extractQA_chatgpt"
   ]
  },
  {
   "cell_type": "code",
   "execution_count": null,
   "id": "f0ba1933-b16f-49dc-bd75-9ebecaf6c1a1",
   "metadata": {
    "pycharm": {
     "name": "#%%\n"
    },
    "tags": []
   },
   "outputs": [],
   "source": [
    "# specify SAVE_PATH to visualize the result you want\n",
    "SAVE_PATH = 'experiments/test/'\n",
    "DATA_ROOT = 'datasets/'\n",
    "sentence_model = SentenceTransformer('all-mpnet-base-v2')"
   ]
  },
  {
   "cell_type": "code",
   "execution_count": null,
   "id": "bf190fec-8a4d-41c5-8c90-fe8181fe6c1b",
   "metadata": {
    "pycharm": {
     "name": "#%%\n"
    },
    "tags": []
   },
   "outputs": [],
   "source": [
    "datasets_list = os.listdir(SAVE_PATH)\n",
    "datasets_list = ['cc_val']\n",
    "all_questions = []\n",
    "effect_q = []\n",
    "for dataset_name in datasets_list:\n",
    "    print('============================')\n",
    "    print('          {}          '.format(dataset_name))\n",
    "    print('============================')\n",
    "    \n",
    "    \n",
    "    save_infos = glob(os.path.join(SAVE_PATH, dataset_name, 'caption_result', '*'))\n",
    "    for info_file in save_infos:\n",
    "        with open(info_file, 'r') as f:\n",
    "            info = yaml.safe_load(f)\n",
    "        chat = info['FlanT5 XXL']['ChatCaptioner']['chat']\n",
    "        if isinstance(chat, str):\n",
    "            questions = []\n",
    "            sentences = info['FlanT5 XXL']['ChatCaptioner']['chat'].split('\\n')\n",
    "            for sentence in sentences:\n",
    "                if 'Question: Describe this image in details.' in sentence: continue\n",
    "                if 'Question:' in sentence:\n",
    "                    questions.append(sentence.split('Question:')[-1].strip())\n",
    "            effect_q.append(len(set(questions)))\n",
    "            all_questions += questions\n",
    "        else:\n",
    "            questions, answers = extractQA_chatgpt(chat)\n",
    "            effect_q.append(len(set(questions[1:])))\n",
    "            all_questions += questions[1:]"
   ]
  },
  {
   "cell_type": "code",
   "execution_count": null,
   "id": "56dddea7",
   "metadata": {
    "pycharm": {
     "name": "#%%\n"
    }
   },
   "outputs": [],
   "source": [
    "print('Unique Q/ Total Q: {}/{}'.format(len(set(all_questions)), len(all_questions)))\n",
    "print('Average Unique Q Per Dialogue: {}'.format(sum(effect_q) / len(effect_q)))"
   ]
  },
  {
   "cell_type": "code",
   "execution_count": null,
   "id": "0180992d-ce17-4a99-8d78-cb611bc6a7a0",
   "metadata": {
    "pycharm": {
     "name": "#%%\n"
    },
    "tags": []
   },
   "outputs": [],
   "source": [
    "all_embs = []\n",
    "for question in tqdm(all_questions):\n",
    "    all_embs.append(sentence_model.encode(question))\n",
    "all_embs = np.stack(all_embs)"
   ]
  },
  {
   "cell_type": "code",
   "execution_count": null,
   "id": "808f3991-d24d-44ba-adcc-2185dc3c914f",
   "metadata": {
    "pycharm": {
     "name": "#%%\n"
    },
    "tags": []
   },
   "outputs": [],
   "source": [
    "fit = umap.UMAP()\n",
    "fit_color = umap.UMAP(n_components=1)\n",
    "%time u = fit.fit_transform(all_embs)\n",
    "%time c = fit_color.fit_transform(all_embs)\n",
    "norm_c = (c - c.min())/ (c.max()-c.min())"
   ]
  },
  {
   "cell_type": "code",
   "execution_count": null,
   "id": "693475fb-27c9-4e67-9d89-8d0943e78078",
   "metadata": {
    "pycharm": {
     "name": "#%%\n"
    },
    "tags": []
   },
   "outputs": [],
   "source": [
    "cmap = matplotlib.colormaps['gnuplot2']"
   ]
  },
  {
   "cell_type": "code",
   "execution_count": null,
   "id": "15615094-706f-418e-bb84-203335069041",
   "metadata": {
    "pycharm": {
     "name": "#%%\n"
    },
    "tags": []
   },
   "outputs": [],
   "source": [
    "plt.scatter(u[:, 0], u[:, 1], s=8, alpha=0.5, c=norm_c, cmap='gnuplot2')\n",
    "plt.xlim(6, 21)\n",
    "plt.ylim(-1, 14)\n",
    "plt.axis('off')\n",
    "plt.show()"
   ]
  },
  {
   "cell_type": "code",
   "execution_count": null,
   "id": "e352809f-fa7a-4ba0-abd6-912dac7e6fda",
   "metadata": {
    "pycharm": {
     "name": "#%%\n"
    },
    "tags": []
   },
   "outputs": [],
   "source": [
    "random_ids = random.sample(range(len(all_questions)), 5)\n",
    "for q_id in random_ids:\n",
    "    print('{}: {}'.format(q_id, all_questions[q_id]))\n",
    "\n",
    "plt.scatter(u[:, 0], u[:, 1], s=1, c=norm_c, cmap='gnuplot2')\n",
    "plt.xlim(6, 21)\n",
    "plt.ylim(-1, 14)\n",
    "for q_id in random_ids:\n",
    "    plt.text(x=u[q_id, 0], y=u[q_id, 1], s=all_questions[q_id], \n",
    "             ha='center', wrap=True, \n",
    "             c=cmap(norm_c[q_id])\n",
    "            )\n",
    "    txt.set_bbox(dict(facecolor='white', alpha=0.8, edgecolor='white'))\n",
    "plt.axis('off')\n",
    "plt.show()"
   ]
  },
  {
   "cell_type": "code",
   "execution_count": null,
   "id": "fbbea4e2-acfe-472d-8554-8849693821b8",
   "metadata": {
    "pycharm": {
     "name": "#%%\n"
    },
    "tags": []
   },
   "outputs": [],
   "source": []
  }
 ],
 "metadata": {
  "kernelspec": {
   "display_name": "chatae",
   "language": "python",
   "name": "chatae"
  },
  "language_info": {
   "codemirror_mode": {
    "name": "ipython",
    "version": 3
   },
   "file_extension": ".py",
   "mimetype": "text/x-python",
   "name": "python",
   "nbconvert_exporter": "python",
   "pygments_lexer": "ipython3",
   "version": "3.9.16"
  }
 },
 "nbformat": 4,
 "nbformat_minor": 5
}