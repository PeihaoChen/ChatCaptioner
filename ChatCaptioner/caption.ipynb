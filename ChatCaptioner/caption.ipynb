{
 "cells": [
  {
   "cell_type": "code",
   "execution_count": null,
   "id": "9c785ab9-f2c8-47e3-95d9-49d0f07ddced",
   "metadata": {
    "pycharm": {
     "name": "#%%\n"
    },
    "tags": []
   },
   "outputs": [],
   "source": [
    "%load_ext autoreload\n",
    "%autoreload 2"
   ]
  },
  {
   "cell_type": "code",
   "execution_count": null,
   "id": "f2fd5a82-3a53-43fa-862e-abc208b0e8b2",
   "metadata": {
    "pycharm": {
     "name": "#%%\n"
    },
    "tags": []
   },
   "outputs": [],
   "source": [
    "import os\n",
    "import yaml\n",
    "import torch\n",
    "\n",
    "from chatcaptioner.chat import set_openai_key, caption_images, get_instructions\n",
    "from chatcaptioner.blip2 import Blip2\n",
    "from chatcaptioner.utils import RandomSampledDataset, plot_img, print_info"
   ]
  },
  {
   "cell_type": "markdown",
   "id": "75fa951a-bc3c-49e5-8654-70beeba10bad",
   "metadata": {
    "pycharm": {
     "name": "#%% md\n"
    }
   },
   "source": [
    "## Set OpenAI"
   ]
  },
  {
   "cell_type": "code",
   "execution_count": null,
   "id": "84c5b12e-0c40-49b8-95c4-34b88a93240e",
   "metadata": {
    "pycharm": {
     "name": "#%%\n"
    },
    "tags": []
   },
   "outputs": [],
   "source": [
    "openai_key = os.environ[\"OPENAI_API_KEY\"]\n",
    "set_openai_key(openai_key)"
   ]
  },
  {
   "cell_type": "markdown",
   "id": "4abe1586-de9f-47b5-943f-9bf5dc11a51e",
   "metadata": {
    "pycharm": {
     "name": "#%% md\n"
    }
   },
   "source": [
    "## Load BLIP-2"
   ]
  },
  {
   "cell_type": "code",
   "execution_count": null,
   "id": "fbb5177b-8d76-425a-89f6-7b8c2fb182e1",
   "metadata": {
    "pycharm": {
     "name": "#%%\n"
    },
    "tags": []
   },
   "outputs": [],
   "source": [
    "blip2s = {\n",
    "    'FlanT5 XXL': Blip2('FlanT5 XXL', device_id=0, bit8=True), # load BLIP-2 FlanT5 XXL to GPU0. Too large, need 8 bit. About 20GB GPU Memory\n",
    "    # 'OPT2.7B COCO': Blip2('OPT2.7B COCO', device_id=1, bit8=False), # load BLIP-2 OPT2.7B COCO to GPU1. About 10GB GPU Memory\n",
    "    # 'OPT6.7B COCO': Blip2('OPT6.7B COCO', device_id=2, bit8=True), # load BLIP-2 OPT6.7B COCO to GPU2. Too large, need 8 bit.\n",
    "}\n",
    "blip2s_q = {}"
   ]
  },
  {
   "cell_type": "code",
   "execution_count": null,
   "id": "1bb237d2-5fcf-4a99-8fdc-7b4de4cd3e94",
   "metadata": {
    "tags": [],
    "pycharm": {
     "name": "#%%\n"
    }
   },
   "outputs": [],
   "source": [
    "# blip2s_q = {\n",
    "#     'FlanT5 XXL': Blip2('FlanT5 XXL', device_id=0, bit8=True), # load BLIP-2 FlanT5 XXL to GPU0. Too large, need 8 bit. About 20GB GPU Memory\n",
    "#     # 'OPT2.7B': Blip2('OPT2.7B', device_id=1, bit8=False), # load BLIP-2 OPT2.7B COCO to GPU1. About 10GB GPU Memory\n",
    "#     # 'OPT6.7B': Blip2('OPT6.7B', device_id=2, bit8=True), # load BLIP-2 OPT6.7B COCO to GPU2. Too large, need 8 bit.\n",
    "# }\n",
    "# blip2s = {'FlanT5 XXL': blip2s_q['FlanT5 XXL']}"
   ]
  },
  {
   "cell_type": "markdown",
   "id": "3ab6f595-3257-4143-b2d7-5a90011acd06",
   "metadata": {
    "pycharm": {
     "name": "#%% md\n"
    }
   },
   "source": [
    "## Test Setting. Change it Accordingly"
   ]
  },
  {
   "cell_type": "code",
   "execution_count": null,
   "id": "4386922c",
   "metadata": {
    "jupyter": {
     "outputs_hidden": false
    },
    "pycharm": {
     "name": "#%%\n"
    }
   },
   "outputs": [],
   "source": [
    "# set the dataset to test\n",
    "dataset_name = 'cc_val'  # current options: 'artemis', 'cc_val', 'coco_val'\n",
    "# set the number of images you want to test\n",
    "n_test_img = 3\n",
    "# set the number of chat rounds between GPT3 and BLIP-2\n",
    "n_rounds = 10\n",
    "# set the number of visible chat rounds to BLIP-2. <0 means all the chat histories are visible.\n",
    "n_blip2_context = 1\n",
    "# if print the chat out in the testing\n",
    "print_chat = True\n",
    "# set the question model\n",
    "question_model_tag = 'gpt-3.5-turbo'"
   ]
  },
  {
   "cell_type": "markdown",
   "id": "533e9ac1",
   "metadata": {
    "pycharm": {
     "name": "#%% md\n"
    }
   },
   "source": [
    "## Load Dataset & Prepare Foloder to Save Results"
   ]
  },
  {
   "cell_type": "code",
   "execution_count": null,
   "id": "f6031873",
   "metadata": {
    "jupyter": {
     "outputs_hidden": false
    },
    "pycharm": {
     "name": "#%%\n"
    }
   },
   "outputs": [],
   "source": [
    "# load the dataset\n",
    "DATA_ROOT = 'datasets/'\n",
    "dataset = RandomSampledDataset(DATA_ROOT, dataset_name)\n",
    "\n",
    "# preparing the folder to save results\n",
    "SAVE_PATH = 'experiments/0307_{}/{}'.format(question_model_tag, dataset_name)\n",
    "if not os.path.exists(SAVE_PATH):\n",
    "    os.makedirs(os.path.join(SAVE_PATH, 'caption_result'))\n",
    "with open(os.path.join(SAVE_PATH, 'instruction.yaml'), 'w') as f:\n",
    "    yaml.dump(get_instructions(), f)"
   ]
  },
  {
   "cell_type": "markdown",
   "id": "257771df",
   "metadata": {
    "pycharm": {
     "name": "#%% md\n"
    }
   },
   "source": [
    "## Start Caption"
   ]
  },
  {
   "cell_type": "code",
   "execution_count": null,
   "id": "48b33172",
   "metadata": {
    "jupyter": {
     "outputs_hidden": false
    },
    "pycharm": {
     "name": "#%%\n"
    }
   },
   "outputs": [],
   "source": [
    "sample_img_ids = dataset.random_img_ids(n_test_img)"
   ]
  },
  {
   "cell_type": "code",
   "execution_count": null,
   "id": "3c3db5c8-690e-43d1-85d6-9b702691ce4b",
   "metadata": {
    "pycharm": {
     "name": "#%%\n"
    }
   },
   "outputs": [],
   "source": [
    "sample_img_ids = ['11627']\n",
    "if question_model_tag in blip2s_q:\n",
    "    question_model = blip2s_q[question_model_tag]\n",
    "else:\n",
    "    question_model = question_model_tag\n",
    "caption_images(blip2s, \n",
    "               dataset, \n",
    "               sample_img_ids, \n",
    "               save_path=SAVE_PATH, \n",
    "               n_rounds=n_rounds, \n",
    "               n_blip2_context=n_blip2_context,\n",
    "               model=question_model,\n",
    "               print_mode='chat')"
   ]
  },
  {
   "cell_type": "code",
   "execution_count": null,
   "id": "85e801c1-bb13-4a35-baf5-fabc1833d778",
   "metadata": {
    "pycharm": {
     "name": "#%%\n"
    }
   },
   "outputs": [],
   "source": []
  }
 ],
 "metadata": {
  "kernelspec": {
   "display_name": "chatae",
   "language": "python",
   "name": "chatae"
  },
  "language_info": {
   "codemirror_mode": {
    "name": "ipython",
    "version": 3
   },
   "file_extension": ".py",
   "mimetype": "text/x-python",
   "name": "python",
   "nbconvert_exporter": "python",
   "pygments_lexer": "ipython3",
   "version": "3.9.16"
  }
 },
 "nbformat": 4,
 "nbformat_minor": 5
}